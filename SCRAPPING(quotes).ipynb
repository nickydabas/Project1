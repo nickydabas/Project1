{
 "cells": [
  {
   "cell_type": "code",
   "execution_count": 1,
   "id": "b3559cf1-6ecd-432b-9f3d-5ad35d776e58",
   "metadata": {},
   "outputs": [
    {
     "name": "stdout",
     "output_type": "stream",
     "text": [
      "Requirement already satisfied: requests in c:\\users\\as\\anaconda3\\lib\\site-packages (2.32.3)\n",
      "Requirement already satisfied: beautifulsoup4 in c:\\users\\as\\anaconda3\\lib\\site-packages (4.12.3)\n",
      "Requirement already satisfied: pandas in c:\\users\\as\\anaconda3\\lib\\site-packages (2.2.2)\n",
      "Requirement already satisfied: charset-normalizer<4,>=2 in c:\\users\\as\\anaconda3\\lib\\site-packages (from requests) (3.3.2)\n",
      "Requirement already satisfied: idna<4,>=2.5 in c:\\users\\as\\anaconda3\\lib\\site-packages (from requests) (3.7)\n",
      "Requirement already satisfied: urllib3<3,>=1.21.1 in c:\\users\\as\\anaconda3\\lib\\site-packages (from requests) (2.2.3)\n",
      "Requirement already satisfied: certifi>=2017.4.17 in c:\\users\\as\\anaconda3\\lib\\site-packages (from requests) (2024.12.14)\n",
      "Requirement already satisfied: soupsieve>1.2 in c:\\users\\as\\anaconda3\\lib\\site-packages (from beautifulsoup4) (2.5)\n",
      "Requirement already satisfied: numpy>=1.26.0 in c:\\users\\as\\anaconda3\\lib\\site-packages (from pandas) (1.26.4)\n",
      "Requirement already satisfied: python-dateutil>=2.8.2 in c:\\users\\as\\anaconda3\\lib\\site-packages (from pandas) (2.9.0.post0)\n",
      "Requirement already satisfied: pytz>=2020.1 in c:\\users\\as\\anaconda3\\lib\\site-packages (from pandas) (2024.1)\n",
      "Requirement already satisfied: tzdata>=2022.7 in c:\\users\\as\\anaconda3\\lib\\site-packages (from pandas) (2023.3)\n",
      "Requirement already satisfied: six>=1.5 in c:\\users\\as\\anaconda3\\lib\\site-packages (from python-dateutil>=2.8.2->pandas) (1.16.0)\n",
      "Data saved to quotes.csv\n"
     ]
    }
   ],
   "source": [
    "# importing Libraries \n",
    "\n",
    "!pip install requests beautifulsoup4 pandas\n",
    "import requests\n",
    "from bs4 import BeautifulSoup\n",
    "import pandas as pd\n",
    "\n",
    "# defining a Function to scrape a single page\n",
    "\n",
    "def scrape_page(url):\n",
    "    response = requests.get(url)\n",
    "    response.raise_for_status()\n",
    "    soup = BeautifulSoup(response.content, 'html.parser')\n",
    "\n",
    "    quotes = []\n",
    "    for quote_tag in soup.find_all('div', class_='quote'):\n",
    "        quote_text = quote_tag.find('span', class_='text').text.strip()[1:-1] # Extract and remove quotes\n",
    "        author = quote_tag.find('small', class_='author').text.strip()\n",
    "        tags = [tag.text for tag in quote_tag.find_all('a', class_='tag')]\n",
    "        quotes.append({'author': author, 'quote': quote_text, 'tags': tags})\n",
    "    return quotes\n",
    "    \n",
    "\n",
    "# Scrape all pages\n",
    "\n",
    "\n",
    "all_quotes = []\n",
    "base_url = 'http://quotes.toscrape.com/'\n",
    "page_url = base_url\n",
    "\n",
    "while True:\n",
    "    page_quotes = scrape_page(page_url)\n",
    "    all_quotes.extend(page_quotes)\n",
    "\n",
    "    next_page = BeautifulSoup(requests.get(page_url).content, 'html.parser').find('li', class_='next')\n",
    "    if next_page:\n",
    "        page_url = base_url + next_page.a['href']\n",
    "    else:\n",
    "        break\n",
    "\n",
    "# Create a DataFrame and save to CSV\n",
    "\n",
    "df = pd.DataFrame(all_quotes)\n",
    "\n",
    "# Explode the 'tags' column to have one tag per row\n",
    "\n",
    "df = df.explode('tags', ignore_index=True)\n",
    "df.to_csv('quotes.csv', index=False)\n",
    "print(\"Data saved to quotes.csv\")"
   ]
  },
  {
   "cell_type": "code",
   "execution_count": null,
   "id": "a8cd2c28-0f98-4053-8f58-9256d0dcb8c9",
   "metadata": {},
   "outputs": [],
   "source": []
  }
 ],
 "metadata": {
  "kernelspec": {
   "display_name": "Python [conda env:base] *",
   "language": "python",
   "name": "conda-base-py"
  },
  "language_info": {
   "codemirror_mode": {
    "name": "ipython",
    "version": 3
   },
   "file_extension": ".py",
   "mimetype": "text/x-python",
   "name": "python",
   "nbconvert_exporter": "python",
   "pygments_lexer": "ipython3",
   "version": "3.12.7"
  }
 },
 "nbformat": 4,
 "nbformat_minor": 5
}
